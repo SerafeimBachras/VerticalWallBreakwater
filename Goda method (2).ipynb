{
 "cells": [
  {
   "cell_type": "markdown",
   "metadata": {},
   "source": [
    "# Additional Thesis: Goda calculations\n"
   ]
  },
  {
   "cell_type": "code",
   "execution_count": 1,
   "metadata": {},
   "outputs": [],
   "source": [
    "import math as ma\n",
    "import numpy as np\n",
    "import sympy"
   ]
  },
  {
   "cell_type": "markdown",
   "metadata": {},
   "source": [
    "# Choice of method and design wave heights, periods etc\n",
    "\n",
    "First, a choice between the standard design method and the new Eurocode 1 should be made. Based on the chosen Return Periods the corresponding wave heights and wave periods per method and limit state are used as input."
   ]
  },
  {
   "cell_type": "code",
   "execution_count": 2,
   "metadata": {},
   "outputs": [],
   "source": [
    "# Method to be used\n",
    "\n",
    "method = \"euro\" #method can be \"standard\" or \"eurocode\""
   ]
  },
  {
   "cell_type": "code",
   "execution_count": 3,
   "metadata": {},
   "outputs": [],
   "source": [
    "# SLS\n",
    "\n",
    "# Storm surge and wave stetup\n",
    "if method==\"standard\":\n",
    "    s_s_SLS = 0.74\n",
    "else:\n",
    "    s_s_SLS = 0.63\n",
    "    \n",
    "# Characteristic wave height (m) and Wave period (sec)\n",
    "if method==\"standard\":\n",
    "    H_13_SLS = 7.55 #RP = 70 years\n",
    "    T_SLS = 11.00\n",
    "else:\n",
    "    H_13_SLS = 7.05 #RP = 40 years\n",
    "    T_SLS = 10.71"
   ]
  },
  {
   "cell_type": "code",
   "execution_count": 4,
   "metadata": {},
   "outputs": [],
   "source": [
    "# ULS\n",
    "\n",
    "# Storm surge and wave stetup\n",
    "if method==\"standard\":\n",
    "    s_s = 0.99 \n",
    "else:\n",
    "    s_s = 0.70 #RP = 40 years\n",
    "    \n",
    "# Characteristic wave height (m) and Wave period (sec)\n",
    "if method==\"standard\":\n",
    "    H_13= 8.90 #RP = 475 years\n",
    "    T = 11.70 \n",
    "else:\n",
    "    H_13 = 8.77 #RP = 400 years\n",
    "    T = 11.66"
   ]
  },
  {
   "cell_type": "markdown",
   "metadata": {},
   "source": [
    "# Dimensions of the cross section, water depths, slope"
   ]
  },
  {
   "cell_type": "code",
   "execution_count": 5,
   "metadata": {
    "scrolled": true
   },
   "outputs": [],
   "source": [
    "# Breakwater Characteristics and water depth\n",
    "\n",
    "# Water Depth (m)\n",
    "h_MSL = 35\n",
    "# Water depth of the vertical wall (m)\n",
    "d_MSL = 25\n",
    "\n",
    "# Tidal range (m)\n",
    "t_r = 0.15\n",
    "# Sea Level Rise(m)\n",
    "slr = 0.2\n",
    "\n",
    "# Design Water Level(m)\n",
    "h = h_MSL + t_r + s_s + slr\n",
    "d = d_MSL + t_r + s_s + slr\n",
    "\n",
    "# Submerged part of the Caisson (m) and Caisson width B (m)\n",
    "h_sub = d\n",
    "B = 26\n",
    "chambers = 6\n",
    "t_ext = 0.5\n",
    "t_int = 0.2\n",
    "\n",
    "# Freeboard (m)\n",
    "h_c_start = 7\n",
    "h_c = h_c_start - s_s - t_r - slr\n",
    "h_c_SLS = h_c_start - s_s_SLS - t_r - slr\n",
    "\n",
    "# Bottom slope (-)\n",
    "tanθ = 1/80\n",
    "\n",
    "# Incident wave angle (degrees)\n",
    "β = 6"
   ]
  },
  {
   "cell_type": "code",
   "execution_count": 6,
   "metadata": {},
   "outputs": [],
   "source": [
    "# Mass calculation (!assuming a given specific weight for the caisson!)\n",
    "γ_con = 24  # KN/m3\n",
    "γ_sand = 20  # KN/m3\n",
    "γ_w = 10.25  # KN/m3\n",
    "\n",
    "Wa =  γ_sand*(B-2*t_ext-(chambers-1)*t_int)*d + γ_con*(((2*t_ext+(chambers-1)*t_int)*d)+B*1+B*1.5+ (h_c - 1.5)*4)  #kg/m\n",
    "W = (Wa - γ_w*(h_sub*B)) / 9.806 #N/m\n",
    "#W"
   ]
  },
  {
   "cell_type": "code",
   "execution_count": 7,
   "metadata": {},
   "outputs": [],
   "source": [
    "# Constants\n",
    "π = ma.pi\n",
    "ρ = 1.025 #t/m3 - Density of sea water\n",
    "grav = 9.806 #m/s2 - Gravitational acceleration\n",
    "μ = 0.6 # Friction coefficient"
   ]
  },
  {
   "cell_type": "markdown",
   "metadata": {},
   "source": [
    "**Newton Raphson for the dispersion equation**\n",
    "\n",
    "The following cell is related to the dispersion equation only, for which a Newton-Raphson method is used. It is not directly related to the Goda methodology."
   ]
  },
  {
   "cell_type": "code",
   "execution_count": 8,
   "metadata": {},
   "outputs": [
    {
     "data": {
      "text/plain": [
       "0.03483988039808753"
      ]
     },
     "execution_count": 8,
     "metadata": {},
     "output_type": "execute_result"
    }
   ],
   "source": [
    "# Code to solve the dispersion equation using Newton-Raphson method and store wave number k\n",
    "\n",
    "h_nr = h\n",
    "T_nr = T\n",
    "x0 = 1\n",
    "e = 0\n",
    "N = 100\n",
    "# Defining Function\n",
    "def f(x):\n",
    "    return 9.806*x*ma.tanh(h_nr*x)-(2*π/T_nr)**2\n",
    "# Defining derivative of function\n",
    "def g(x):\n",
    "    return 9.806*(ma.tanh(h_nr*x)+h_nr*x*(1/(ma.cosh(h_nr*x)))**2)\n",
    "# Implementing Newton Raphson Method\n",
    "def newtonRaphson(x0,e,N):\n",
    "    #print('\\n\\n*** NEWTON RAPHSON METHOD IMPLEMENTATION ***')\n",
    "    step = 1\n",
    "    flag = 1\n",
    "    condition = True\n",
    "    while condition:\n",
    "        if g(x0) == 0.0:\n",
    "            print('Divide by zero error!')\n",
    "            break\n",
    "        x1 = x0 - f(x0)/g(x0)\n",
    "        #print('Iteration-%d, x1 = %0.6f and f(x1) = %0.6f' % (step, x1, f(x1)))\n",
    "        x0 = x1\n",
    "        step = step + 1\n",
    "        if step > N:\n",
    "            flag = 0\n",
    "            break\n",
    "        condition = abs(f(x1)) > e\n",
    "    if flag==1:\n",
    "        x0 = x1\n",
    "      #  print('\\nRequired root is: %0.5f' % x1)\n",
    "    else:\n",
    "        print('\\nNot Convergent.') \n",
    "    return x1\n",
    "# Input Section\n",
    "#x0 = input('Enter Guess: ')\n",
    "#e = input('Tolerable Error: ')\n",
    "#N = input('Maximum Step: ')\n",
    "# Converting x0 and e to float\n",
    "x0 = float(x0)\n",
    "e = float(e)\n",
    "# Converting N to integer\n",
    "N = int(N)\n",
    "# Starting Newton Raphson Method\n",
    "newtonRaphson(x0,e,N)\n"
   ]
  },
  {
   "cell_type": "code",
   "execution_count": 9,
   "metadata": {},
   "outputs": [],
   "source": [
    "k = _"
   ]
  },
  {
   "cell_type": "code",
   "execution_count": 10,
   "metadata": {},
   "outputs": [],
   "source": [
    "# Easy equations\n",
    "\n",
    "β = ma.radians(β)\n",
    "H_max = 1.8*H_13 # Maximum wave height\n",
    "h_star = 0.75*(1+np.cos(β))*H_max #m - Theoretical maximum level at which pressure is exerted\n",
    "t = B/2 # Horizontal distance between the center of gravity of the caisson and its heel ##SOS: Assumption that t=B/2.\n",
    "L = 2*π/k # Wave length calculation based on the wave number\n",
    "L0 = grav*T**2/2/π # Deep water wave length\n",
    "#Irribarren Number\n",
    "ξ = tanθ / ((2*π*H_13/grav/T**2))**(0.5)\n",
    "\n",
    "γ = 0.5 + 0.4 * ma.tanh(33*H_13/L0) # Wave breaking index according to Battje and Stive, 1985\n",
    "#γ"
   ]
  },
  {
   "cell_type": "code",
   "execution_count": 11,
   "metadata": {},
   "outputs": [],
   "source": [
    "# Wave breaking \n",
    "H_b = H_13\n",
    "h_b = H_b / γ"
   ]
  },
  {
   "cell_type": "code",
   "execution_count": 12,
   "metadata": {},
   "outputs": [],
   "source": [
    "# Goda method variables\n",
    "\n",
    "a1 = 0.6 + 1/2*(2*k*h/np.sinh(2*k*h))**2\n",
    "a2 = min((h_b - d)/(3*h_b)*(H_max/d)**2, 2*d/H_max)\n",
    "a3 = 1 - (h_sub/h)*(1-(1/np.cosh(k*h)))"
   ]
  },
  {
   "cell_type": "code",
   "execution_count": 13,
   "metadata": {},
   "outputs": [],
   "source": [
    "p1 = 1/2*(1+np.cos(β))*(a1+a2*(np.cos(β))**2)*ρ*H_max\n",
    "p2 = p1 / (np.cosh(k*h))\n",
    "p3 = a3*p1\n",
    "if h_star>h_c:\n",
    "    p4 = p1*(1-h_c/h_star)\n",
    "else:\n",
    "    p4 = 0\n",
    "\n",
    "# Uplift\n",
    "pu = 1/2*(1+np.cos(β))*a1*a3*ρ*H_max"
   ]
  },
  {
   "cell_type": "code",
   "execution_count": 14,
   "metadata": {},
   "outputs": [],
   "source": [
    "# Stability\n",
    "h_c_star = min(h_star, h_c)\n",
    "\n",
    "F_H = 1/2*(p1+p3)*h_sub+1/2*(p1+p4)*h_c_star\n",
    "F_U = 1/2*pu*B\n",
    "\n",
    "# Moments\n",
    "M_H = 1/6*(2*p1+p3)*(h_sub**2)+1/2*(p1+p4)*h_sub*h_c_star+1/6*(p1+2*p4)*(h_c_star**2)\n",
    "M_U = 2/3*F_U*B\n",
    "#F_U"
   ]
  },
  {
   "cell_type": "code",
   "execution_count": 15,
   "metadata": {},
   "outputs": [],
   "source": [
    "# Safety Factors\n",
    "SF_sliding = μ*(W-F_U)/(F_H)\n",
    "\n",
    "SF_overturning = (W*t - M_U)/M_H"
   ]
  },
  {
   "cell_type": "code",
   "execution_count": 16,
   "metadata": {},
   "outputs": [
    {
     "name": "stdout",
     "output_type": "stream",
     "text": [
      "The current design is \u001b[1msufficient against sliding\u001b[0m. The Safety Factor is:  2.23\n",
      "The current design is \u001b[1msufficient against overturning\u001b[0m. The Safety Factor is: 2.76\n"
     ]
    }
   ],
   "source": [
    "if SF_sliding<=1.2 or SF_overturning <= 1.2:\n",
    "   print('Adjust the breakwaters design')\n",
    "else:\n",
    "    if SF_sliding > 1.2:\n",
    "        print('The current design is \\033[1msufficient against sliding\\033[0m. The Safety Factor is:  %0.2f' % SF_sliding)\n",
    "    else:\n",
    "        print('The current design is \\033[1mnot sufficient against sliding\\033[0m.')\n",
    "    if SF_overturning > 1.2:\n",
    "        print('The current design is \\033[1msufficient against overturning\\033[0m. The Safety Factor is: %0.2f' % SF_overturning)\n",
    "    else:\n",
    "         print('The current design is \\033[1mnot sufficient against overturning\\033[0m.')\n",
    "            \n",
    "#SF_sliding \n",
    "#SF_overturning"
   ]
  },
  {
   "cell_type": "code",
   "execution_count": 17,
   "metadata": {},
   "outputs": [],
   "source": [
    "# Net overturning moment\n",
    "M_e = W*grav*t - M_H - M_U\n",
    "\n",
    "# Nett vertical force on the subsoil\n",
    "W_e = W*grav-F_U\n",
    "\n",
    "# Eccentricity of the reaction force\n",
    "t_e = M_e/W_e"
   ]
  },
  {
   "cell_type": "code",
   "execution_count": 18,
   "metadata": {},
   "outputs": [
    {
     "name": "stdout",
     "output_type": "stream",
     "text": [
      "The bearing capacity of the soil is \u001b[1msufficient\u001b[1m.\n"
     ]
    },
    {
     "data": {
      "text/plain": [
       "370.6655427634354"
      ]
     },
     "execution_count": 18,
     "metadata": {},
     "output_type": "execute_result"
    }
   ],
   "source": [
    "if t_e<=(B/3):\n",
    "    pe = 2*W_e/3/t_e\n",
    "else:\n",
    "    pe = 2*W_e/B*(2-3*(t_e/B))\n",
    "\n",
    "# Foundation load Check\n",
    "if pe>400:\n",
    "    print('The foundation load is above the limit')\n",
    "else:\n",
    "    print('The bearing capacity of the soil is \\33[1msufficient\\33[1m.')\n",
    "pe"
   ]
  },
  {
   "cell_type": "markdown",
   "metadata": {},
   "source": [
    "**Berm stability**\n",
    "\n",
    "For the berm stability the h' along with the corresponding L' and k' must be calculated."
   ]
  },
  {
   "cell_type": "code",
   "execution_count": 19,
   "metadata": {},
   "outputs": [
    {
     "data": {
      "text/plain": [
       "0.03983411264649471"
      ]
     },
     "execution_count": 19,
     "metadata": {},
     "output_type": "execute_result"
    }
   ],
   "source": [
    "#Dispersion equation for k'\n",
    "h_berm = h_sub-2\n",
    "T_nr2 = T\n",
    "h_nr2 = h_berm\n",
    "def f(x):\n",
    "    return 9.806*x*ma.tanh(h_nr2*x)-(2*π/T_nr2)**2\n",
    "# Defining derivative of function\n",
    "def g(x):\n",
    "    return 9.806*(ma.tanh(h_nr2*x)+h_nr2*x*(1/(ma.cosh(h_nr2*x)))**2)\n",
    "newtonRaphson(x0,e,N)\n"
   ]
  },
  {
   "cell_type": "code",
   "execution_count": 20,
   "metadata": {},
   "outputs": [],
   "source": [
    "k_berm = _"
   ]
  },
  {
   "cell_type": "code",
   "execution_count": 21,
   "metadata": {},
   "outputs": [
    {
     "data": {
      "text/plain": [
       "0.83"
      ]
     },
     "execution_count": 21,
     "metadata": {},
     "output_type": "execute_result"
    }
   ],
   "source": [
    "# Berm Stability\n",
    "Bm = 10\n",
    "κ = (2*k_berm*h_berm/ma.sinh(2*k_berm*h_berm))*(ma.sin(k_berm*Bm))**2\n",
    "Ns =  max(1.8, 1.3*(((1-κ)*h_berm)/(κ**(1/3)*H_13)+1.8*(ma.exp(-1.5*(1-κ)**2*h_berm/H_13/κ**(1/3)))))\n",
    "\n",
    "ρ_c = 2500\n",
    "ρ_w = 1025\n",
    "\n",
    "Δ = (ρ_c - ρ_w) / ρ_w\n",
    "\n",
    "# Required berm Dn50\n",
    "Dn50_berm = H_13 / Δ / Ns\n",
    "Dn50_berm = round(Dn50_berm,2)\n",
    "Dn50_berm"
   ]
  },
  {
   "cell_type": "markdown",
   "metadata": {},
   "source": [
    "**Overtopping calculations**"
   ]
  },
  {
   "cell_type": "code",
   "execution_count": 22,
   "metadata": {},
   "outputs": [
    {
     "name": "stdout",
     "output_type": "stream",
     "text": [
      "0.504\n",
      "The design is sufficient for overtopping\n"
     ]
    }
   ],
   "source": [
    "# Overtopping\n",
    "\n",
    "# Acceptable overtopping discharge\n",
    "q_acceptable = 1 #m3/m/s\n",
    "\n",
    "# Using equation 9.8 of the Breakwaters Lecture Notes\n",
    "\n",
    "over = h_c_SLS/H_13_SLS\n",
    "if over<3.5 and over>0.1:\n",
    "    a = 0.04\n",
    "    b = 1.8\n",
    "    q = a*ma.exp(-b*over)*ma.sqrt(grav*(H_13_SLS**3)) #m3/m/s\n",
    "    print(round(q,3))\n",
    "else:\n",
    "    print('Equation not applicable for this combination of freeboard and Hs')\n",
    "        \n",
    "if q < q_acceptable:\n",
    "    print('The design is sufficient for overtopping')\n",
    "else:\n",
    "    print('The overtopping discharge is higher than the acceptable one')"
   ]
  }
 ],
 "metadata": {
  "kernelspec": {
   "display_name": "Python 3",
   "language": "python",
   "name": "python3"
  },
  "language_info": {
   "codemirror_mode": {
    "name": "ipython",
    "version": 3
   },
   "file_extension": ".py",
   "mimetype": "text/x-python",
   "name": "python",
   "nbconvert_exporter": "python",
   "pygments_lexer": "ipython3",
   "version": "3.8.8"
  }
 },
 "nbformat": 4,
 "nbformat_minor": 4
}
